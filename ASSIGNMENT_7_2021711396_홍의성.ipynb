{
  "nbformat": 4,
  "nbformat_minor": 0,
  "metadata": {
    "colab": {
      "name": "ASSIGNMENT#7-2021711396-홍의성.ipynb",
      "provenance": [],
      "collapsed_sections": [],
      "authorship_tag": "ABX9TyO1mtj1fJ4pn+Rg5oCA5oo3",
      "include_colab_link": true
    },
    "kernelspec": {
      "name": "python3",
      "display_name": "Python 3"
    },
    "language_info": {
      "name": "python"
    },
    "accelerator": "GPU"
  },
  "cells": [
    {
      "cell_type": "markdown",
      "metadata": {
        "id": "view-in-github",
        "colab_type": "text"
      },
      "source": [
        "<a href=\"https://colab.research.google.com/github/2021711396Honguiseong/-/blob/main/ASSIGNMENT_7_2021711396_%ED%99%8D%EC%9D%98%EC%84%B1.ipynb\" target=\"_parent\"><img src=\"https://colab.research.google.com/assets/colab-badge.svg\" alt=\"Open In Colab\"/></a>"
      ]
    },
    {
      "cell_type": "markdown",
      "metadata": {
        "id": "AF1J3OhO3Wnd"
      },
      "source": [
        "0. Import Packages"
      ]
    },
    {
      "cell_type": "code",
      "metadata": {
        "colab": {
          "base_uri": "https://localhost:8080/"
        },
        "id": "XzC-Nlyt27HU",
        "outputId": "8bbd11bd-0a37-4028-b4aa-bdf9bc197e2c"
      },
      "source": [
        "!pip install tensorflow==2.6.0\n",
        "\n",
        "### >>> DO NOT MODIFY >>> ###\n",
        "\n",
        "import numpy as np\n",
        "import tensorflow as tf\n",
        "\n",
        "print(\"{:15}\".format(\"tensorflow\"), tf.__version__)         # (Tested) 2.6.0"
      ],
      "execution_count": 67,
      "outputs": [
        {
          "output_type": "stream",
          "name": "stdout",
          "text": [
            "Requirement already satisfied: tensorflow==2.6.0 in /usr/local/lib/python3.7/dist-packages (2.6.0)\n",
            "Requirement already satisfied: protobuf>=3.9.2 in /usr/local/lib/python3.7/dist-packages (from tensorflow==2.6.0) (3.17.3)\n",
            "Requirement already satisfied: gast==0.4.0 in /usr/local/lib/python3.7/dist-packages (from tensorflow==2.6.0) (0.4.0)\n",
            "Requirement already satisfied: flatbuffers~=1.12.0 in /usr/local/lib/python3.7/dist-packages (from tensorflow==2.6.0) (1.12)\n",
            "Requirement already satisfied: wrapt~=1.12.1 in /usr/local/lib/python3.7/dist-packages (from tensorflow==2.6.0) (1.12.1)\n",
            "Requirement already satisfied: opt-einsum~=3.3.0 in /usr/local/lib/python3.7/dist-packages (from tensorflow==2.6.0) (3.3.0)\n",
            "Requirement already satisfied: numpy~=1.19.2 in /usr/local/lib/python3.7/dist-packages (from tensorflow==2.6.0) (1.19.5)\n",
            "Requirement already satisfied: typing-extensions~=3.7.4 in /usr/local/lib/python3.7/dist-packages (from tensorflow==2.6.0) (3.7.4.3)\n",
            "Requirement already satisfied: tensorflow-estimator~=2.6 in /usr/local/lib/python3.7/dist-packages (from tensorflow==2.6.0) (2.6.0)\n",
            "Requirement already satisfied: keras~=2.6 in /usr/local/lib/python3.7/dist-packages (from tensorflow==2.6.0) (2.6.0)\n",
            "Requirement already satisfied: astunparse~=1.6.3 in /usr/local/lib/python3.7/dist-packages (from tensorflow==2.6.0) (1.6.3)\n",
            "Requirement already satisfied: google-pasta~=0.2 in /usr/local/lib/python3.7/dist-packages (from tensorflow==2.6.0) (0.2.0)\n",
            "Requirement already satisfied: wheel~=0.35 in /usr/local/lib/python3.7/dist-packages (from tensorflow==2.6.0) (0.37.0)\n",
            "Requirement already satisfied: clang~=5.0 in /usr/local/lib/python3.7/dist-packages (from tensorflow==2.6.0) (5.0)\n",
            "Requirement already satisfied: termcolor~=1.1.0 in /usr/local/lib/python3.7/dist-packages (from tensorflow==2.6.0) (1.1.0)\n",
            "Requirement already satisfied: six~=1.15.0 in /usr/local/lib/python3.7/dist-packages (from tensorflow==2.6.0) (1.15.0)\n",
            "Requirement already satisfied: keras-preprocessing~=1.1.2 in /usr/local/lib/python3.7/dist-packages (from tensorflow==2.6.0) (1.1.2)\n",
            "Requirement already satisfied: tensorboard~=2.6 in /usr/local/lib/python3.7/dist-packages (from tensorflow==2.6.0) (2.6.0)\n",
            "Requirement already satisfied: absl-py~=0.10 in /usr/local/lib/python3.7/dist-packages (from tensorflow==2.6.0) (0.12.0)\n",
            "Requirement already satisfied: grpcio<2.0,>=1.37.0 in /usr/local/lib/python3.7/dist-packages (from tensorflow==2.6.0) (1.41.0)\n",
            "Requirement already satisfied: h5py~=3.1.0 in /usr/local/lib/python3.7/dist-packages (from tensorflow==2.6.0) (3.1.0)\n",
            "Requirement already satisfied: cached-property in /usr/local/lib/python3.7/dist-packages (from h5py~=3.1.0->tensorflow==2.6.0) (1.5.2)\n",
            "Requirement already satisfied: tensorboard-data-server<0.7.0,>=0.6.0 in /usr/local/lib/python3.7/dist-packages (from tensorboard~=2.6->tensorflow==2.6.0) (0.6.1)\n",
            "Requirement already satisfied: requests<3,>=2.21.0 in /usr/local/lib/python3.7/dist-packages (from tensorboard~=2.6->tensorflow==2.6.0) (2.23.0)\n",
            "Requirement already satisfied: google-auth<2,>=1.6.3 in /usr/local/lib/python3.7/dist-packages (from tensorboard~=2.6->tensorflow==2.6.0) (1.35.0)\n",
            "Requirement already satisfied: werkzeug>=0.11.15 in /usr/local/lib/python3.7/dist-packages (from tensorboard~=2.6->tensorflow==2.6.0) (1.0.1)\n",
            "Requirement already satisfied: tensorboard-plugin-wit>=1.6.0 in /usr/local/lib/python3.7/dist-packages (from tensorboard~=2.6->tensorflow==2.6.0) (1.8.0)\n",
            "Requirement already satisfied: google-auth-oauthlib<0.5,>=0.4.1 in /usr/local/lib/python3.7/dist-packages (from tensorboard~=2.6->tensorflow==2.6.0) (0.4.6)\n",
            "Requirement already satisfied: markdown>=2.6.8 in /usr/local/lib/python3.7/dist-packages (from tensorboard~=2.6->tensorflow==2.6.0) (3.3.4)\n",
            "Requirement already satisfied: setuptools>=41.0.0 in /usr/local/lib/python3.7/dist-packages (from tensorboard~=2.6->tensorflow==2.6.0) (57.4.0)\n",
            "Requirement already satisfied: rsa<5,>=3.1.4 in /usr/local/lib/python3.7/dist-packages (from google-auth<2,>=1.6.3->tensorboard~=2.6->tensorflow==2.6.0) (4.7.2)\n",
            "Requirement already satisfied: cachetools<5.0,>=2.0.0 in /usr/local/lib/python3.7/dist-packages (from google-auth<2,>=1.6.3->tensorboard~=2.6->tensorflow==2.6.0) (4.2.4)\n",
            "Requirement already satisfied: pyasn1-modules>=0.2.1 in /usr/local/lib/python3.7/dist-packages (from google-auth<2,>=1.6.3->tensorboard~=2.6->tensorflow==2.6.0) (0.2.8)\n",
            "Requirement already satisfied: requests-oauthlib>=0.7.0 in /usr/local/lib/python3.7/dist-packages (from google-auth-oauthlib<0.5,>=0.4.1->tensorboard~=2.6->tensorflow==2.6.0) (1.3.0)\n",
            "Requirement already satisfied: importlib-metadata in /usr/local/lib/python3.7/dist-packages (from markdown>=2.6.8->tensorboard~=2.6->tensorflow==2.6.0) (4.8.1)\n",
            "Requirement already satisfied: pyasn1<0.5.0,>=0.4.6 in /usr/local/lib/python3.7/dist-packages (from pyasn1-modules>=0.2.1->google-auth<2,>=1.6.3->tensorboard~=2.6->tensorflow==2.6.0) (0.4.8)\n",
            "Requirement already satisfied: certifi>=2017.4.17 in /usr/local/lib/python3.7/dist-packages (from requests<3,>=2.21.0->tensorboard~=2.6->tensorflow==2.6.0) (2021.5.30)\n",
            "Requirement already satisfied: idna<3,>=2.5 in /usr/local/lib/python3.7/dist-packages (from requests<3,>=2.21.0->tensorboard~=2.6->tensorflow==2.6.0) (2.10)\n",
            "Requirement already satisfied: urllib3!=1.25.0,!=1.25.1,<1.26,>=1.21.1 in /usr/local/lib/python3.7/dist-packages (from requests<3,>=2.21.0->tensorboard~=2.6->tensorflow==2.6.0) (1.24.3)\n",
            "Requirement already satisfied: chardet<4,>=3.0.2 in /usr/local/lib/python3.7/dist-packages (from requests<3,>=2.21.0->tensorboard~=2.6->tensorflow==2.6.0) (3.0.4)\n",
            "Requirement already satisfied: oauthlib>=3.0.0 in /usr/local/lib/python3.7/dist-packages (from requests-oauthlib>=0.7.0->google-auth-oauthlib<0.5,>=0.4.1->tensorboard~=2.6->tensorflow==2.6.0) (3.1.1)\n",
            "Requirement already satisfied: zipp>=0.5 in /usr/local/lib/python3.7/dist-packages (from importlib-metadata->markdown>=2.6.8->tensorboard~=2.6->tensorflow==2.6.0) (3.6.0)\n",
            "tensorflow      2.6.0\n"
          ]
        }
      ]
    },
    {
      "cell_type": "code",
      "metadata": {
        "id": "T5ibqllX3bLy"
      },
      "source": [
        "import numpy as np\n",
        "import tensorflow as tf\n",
        "import matplotlib.pyplot as plt\n",
        "%matplotlib inline\n",
        "\n",
        "from tensorflow.keras import datasets, layers, models"
      ],
      "execution_count": 68,
      "outputs": []
    },
    {
      "cell_type": "code",
      "metadata": {
        "id": "fqPrcKSh3bOC"
      },
      "source": [
        "(train_images, train_labels), (test_images, test_labels) =  tf.keras.datasets.fashion_mnist.load_data()"
      ],
      "execution_count": 69,
      "outputs": []
    },
    {
      "cell_type": "code",
      "metadata": {
        "colab": {
          "base_uri": "https://localhost:8080/"
        },
        "id": "Cf5-bOsj3bQS",
        "outputId": "d9efe289-b98a-4d54-930a-a673b7ec0774"
      },
      "source": [
        "print('train image shape : {}'.format(train_images.shape))\n",
        "print('train label shape : {}'.format(train_labels.shape))\n",
        "print('test image shape : {}'.format(test_images.shape))\n",
        "print('test label shape : {}'.format(test_labels.shape))"
      ],
      "execution_count": null,
      "outputs": [
        {
          "output_type": "stream",
          "name": "stdout",
          "text": [
            "train image shape : (60000, 28, 28)\n",
            "train label shape : (60000,)\n",
            "test image shape : (10000, 28, 28)\n",
            "test label shape : (10000,)\n"
          ]
        }
      ]
    },
    {
      "cell_type": "code",
      "metadata": {
        "colab": {
          "base_uri": "https://localhost:8080/"
        },
        "id": "oBWHbMu_3bST",
        "outputId": "3286d334-dd38-4ae8-d101-8fcdd4155653"
      },
      "source": [
        "train_images = train_images.reshape((60000, 28, 28, 1))\n",
        "test_images = test_images.reshape((10000, 28, 28, 1))\n",
        "\n",
        "print('train image shape : {}'.format(train_images.shape))\n",
        "print('test image shape : {}'.format(test_images.shape))"
      ],
      "execution_count": 70,
      "outputs": [
        {
          "output_type": "stream",
          "name": "stdout",
          "text": [
            "train image shape : (60000, 28, 28, 1)\n",
            "test image shape : (10000, 28, 28, 1)\n"
          ]
        }
      ]
    },
    {
      "cell_type": "code",
      "metadata": {
        "colab": {
          "base_uri": "https://localhost:8080/"
        },
        "id": "kLEaW21_3bUS",
        "outputId": "60d5b5f2-8f20-4661-b515-b1e992b95d83"
      },
      "source": [
        "np.unique(train_images[0])"
      ],
      "execution_count": 71,
      "outputs": [
        {
          "output_type": "execute_result",
          "data": {
            "text/plain": [
              "array([  0,   1,   2,   3,   4,   6,   7,  10,  12,  13,  15,  18,  23,\n",
              "        29,  35,  36,  40,  41,  44,  48,  52,  54,  55,  56,  57,  58,\n",
              "        61,  62,  64,  65,  66,  67,  69,  72,  73,  74,  75,  77,  80,\n",
              "        82,  88,  92,  98,  99, 102, 106, 107, 109, 115, 117, 119, 121,\n",
              "       122, 123, 127, 130, 134, 136, 141, 144, 145, 146, 150, 154, 155,\n",
              "       156, 159, 161, 163, 164, 166, 167, 168, 169, 170, 171, 172, 173,\n",
              "       175, 176, 177, 178, 179, 180, 181, 182, 183, 185, 186, 187, 188,\n",
              "       189, 190, 191, 192, 193, 194, 195, 196, 197, 198, 199, 200, 202,\n",
              "       203, 204, 205, 206, 207, 208, 209, 210, 211, 212, 213, 214, 215,\n",
              "       216, 217, 218, 219, 220, 221, 222, 223, 224, 225, 226, 227, 228,\n",
              "       229, 230, 232, 233, 234, 235, 236, 237, 238, 239, 240, 241, 242,\n",
              "       243, 244, 245, 246, 248, 249, 250, 255], dtype=uint8)"
            ]
          },
          "metadata": {},
          "execution_count": 71
        }
      ]
    },
    {
      "cell_type": "code",
      "metadata": {
        "id": "XvuLnBdF3bWe"
      },
      "source": [
        "train_images, test_images = train_images / 255.0, test_images / 255.0"
      ],
      "execution_count": 72,
      "outputs": []
    },
    {
      "cell_type": "code",
      "metadata": {
        "colab": {
          "base_uri": "https://localhost:8080/"
        },
        "id": "yxa67mRT3bYe",
        "outputId": "aa19a9a0-e2ed-477f-9d11-67473fe3fda4"
      },
      "source": [
        "np.unique(train_images[0])"
      ],
      "execution_count": 73,
      "outputs": [
        {
          "output_type": "execute_result",
          "data": {
            "text/plain": [
              "array([0.        , 0.00392157, 0.00784314, 0.01176471, 0.01568627,\n",
              "       0.02352941, 0.02745098, 0.03921569, 0.04705882, 0.05098039,\n",
              "       0.05882353, 0.07058824, 0.09019608, 0.11372549, 0.1372549 ,\n",
              "       0.14117647, 0.15686275, 0.16078431, 0.17254902, 0.18823529,\n",
              "       0.20392157, 0.21176471, 0.21568627, 0.21960784, 0.22352941,\n",
              "       0.22745098, 0.23921569, 0.24313725, 0.25098039, 0.25490196,\n",
              "       0.25882353, 0.2627451 , 0.27058824, 0.28235294, 0.28627451,\n",
              "       0.29019608, 0.29411765, 0.30196078, 0.31372549, 0.32156863,\n",
              "       0.34509804, 0.36078431, 0.38431373, 0.38823529, 0.4       ,\n",
              "       0.41568627, 0.41960784, 0.42745098, 0.45098039, 0.45882353,\n",
              "       0.46666667, 0.4745098 , 0.47843137, 0.48235294, 0.49803922,\n",
              "       0.50980392, 0.5254902 , 0.53333333, 0.55294118, 0.56470588,\n",
              "       0.56862745, 0.57254902, 0.58823529, 0.60392157, 0.60784314,\n",
              "       0.61176471, 0.62352941, 0.63137255, 0.63921569, 0.64313725,\n",
              "       0.65098039, 0.65490196, 0.65882353, 0.6627451 , 0.66666667,\n",
              "       0.67058824, 0.6745098 , 0.67843137, 0.68627451, 0.69019608,\n",
              "       0.69411765, 0.69803922, 0.70196078, 0.70588235, 0.70980392,\n",
              "       0.71372549, 0.71764706, 0.7254902 , 0.72941176, 0.73333333,\n",
              "       0.7372549 , 0.74117647, 0.74509804, 0.74901961, 0.75294118,\n",
              "       0.75686275, 0.76078431, 0.76470588, 0.76862745, 0.77254902,\n",
              "       0.77647059, 0.78039216, 0.78431373, 0.79215686, 0.79607843,\n",
              "       0.8       , 0.80392157, 0.80784314, 0.81176471, 0.81568627,\n",
              "       0.81960784, 0.82352941, 0.82745098, 0.83137255, 0.83529412,\n",
              "       0.83921569, 0.84313725, 0.84705882, 0.85098039, 0.85490196,\n",
              "       0.85882353, 0.8627451 , 0.86666667, 0.87058824, 0.8745098 ,\n",
              "       0.87843137, 0.88235294, 0.88627451, 0.89019608, 0.89411765,\n",
              "       0.89803922, 0.90196078, 0.90980392, 0.91372549, 0.91764706,\n",
              "       0.92156863, 0.9254902 , 0.92941176, 0.93333333, 0.9372549 ,\n",
              "       0.94117647, 0.94509804, 0.94901961, 0.95294118, 0.95686275,\n",
              "       0.96078431, 0.96470588, 0.97254902, 0.97647059, 0.98039216,\n",
              "       1.        ])"
            ]
          },
          "metadata": {},
          "execution_count": 73
        }
      ]
    },
    {
      "cell_type": "code",
      "metadata": {
        "colab": {
          "base_uri": "https://localhost:8080/",
          "height": 301
        },
        "id": "PV7GsiTQ3bam",
        "outputId": "b348c0c4-e397-405c-b138-b41147f708a2"
      },
      "source": [
        "num_row = 3\n",
        "num_col = 5# plot images\n",
        "fig, axes = plt.subplots(num_row, num_col)\n",
        "for i in range(num_row*num_col):\n",
        "    ax = axes[i//num_col, i%num_col]\n",
        "    ax.imshow(train_images[i][:,:,0], cmap='gray')\n",
        "    ax.set_title('Label: {}'.format(train_labels[i]))\n",
        "plt.tight_layout()\n",
        "plt.show()"
      ],
      "execution_count": 74,
      "outputs": [
        {
          "output_type": "display_data",
          "data": {
            "image/png": "[encoded data removed]",
            "text/plain": [
              "<Figure size 432x288 with 15 Axes>"
            ]
          },
          "metadata": {
            "needs_background": "light"
          }
        }
      ]
    },
    {
      "cell_type": "code",
      "metadata": {
        "colab": {
          "base_uri": "https://localhost:8080/"
        },
        "id": "R5orNCCh4D_A",
        "outputId": "aa859b65-bff2-4ad1-f693-b21ccc187c12"
      },
      "source": [
        "model_with_padding = models.Sequential()\n",
        "# Padding option'same' maintains riginal shape\n",
        "model_with_padding.add(layers.Conv2D(32, (3, 3), activation='relu', input_shape=(28, 28, 1), padding='same')) \n",
        "model_with_padding.add(layers.MaxPooling2D((2, 2)))\n",
        "\n",
        "model_with_padding.summary()"
      ],
      "execution_count": 75,
      "outputs": [
        {
          "output_type": "stream",
          "name": "stdout",
          "text": [
            "Model: \"sequential_15\"\n",
            "_________________________________________________________________\n",
            "Layer (type)                 Output Shape              Param #   \n",
            "=================================================================\n",
            "conv2d_37 (Conv2D)           (None, 28, 28, 32)        320       \n",
            "_________________________________________________________________\n",
            "max_pooling2d_35 (MaxPooling (None, 14, 14, 32)        0         \n",
            "=================================================================\n",
            "Total params: 320\n",
            "Trainable params: 320\n",
            "Non-trainable params: 0\n",
            "_________________________________________________________________\n"
          ]
        }
      ]
    },
    {
      "cell_type": "code",
      "metadata": {
        "colab": {
          "base_uri": "https://localhost:8080/"
        },
        "id": "W6JaaeZb4EA3",
        "outputId": "63037b18-1461-41a7-8a6d-f698b85f1256"
      },
      "source": [
        "model = models.Sequential()\n",
        "model.add(layers.Conv2D(32, (3, 3), activation='relu', input_shape=(28, 28, 1)))\n",
        "model.add(layers.MaxPooling2D((2, 2)))\n",
        "model.add(layers.Conv2D(64, (3, 3), activation='relu'))\n",
        "model.add(layers.MaxPooling2D((2, 2)))\n",
        "model.add(layers.Conv2D(128, (3, 3), activation='relu'))\n",
        "model.add(layers.MaxPooling2D((2, 2)))\n",
        "\n",
        "model.add(layers.Flatten())\n",
        "model.add(layers.Dense(128, activation='relu'))\n",
        "model.add(layers.Dense(10, activation='softmax'))\n",
        "\n",
        "model.summary()"
      ],
      "execution_count": 76,
      "outputs": [
        {
          "output_type": "stream",
          "name": "stdout",
          "text": [
            "Model: \"sequential_16\"\n",
            "_________________________________________________________________\n",
            "Layer (type)                 Output Shape              Param #   \n",
            "=================================================================\n",
            "conv2d_38 (Conv2D)           (None, 26, 26, 32)        320       \n",
            "_________________________________________________________________\n",
            "max_pooling2d_36 (MaxPooling (None, 13, 13, 32)        0         \n",
            "_________________________________________________________________\n",
            "conv2d_39 (Conv2D)           (None, 11, 11, 64)        18496     \n",
            "_________________________________________________________________\n",
            "max_pooling2d_37 (MaxPooling (None, 5, 5, 64)          0         \n",
            "_________________________________________________________________\n",
            "conv2d_40 (Conv2D)           (None, 3, 3, 128)         73856     \n",
            "_________________________________________________________________\n",
            "max_pooling2d_38 (MaxPooling (None, 1, 1, 128)         0         \n",
            "_________________________________________________________________\n",
            "flatten_4 (Flatten)          (None, 128)               0         \n",
            "_________________________________________________________________\n",
            "dense_8 (Dense)              (None, 128)               16512     \n",
            "_________________________________________________________________\n",
            "dense_9 (Dense)              (None, 10)                1290      \n",
            "=================================================================\n",
            "Total params: 110,474\n",
            "Trainable params: 110,474\n",
            "Non-trainable params: 0\n",
            "_________________________________________________________________\n"
          ]
        }
      ]
    },
    {
      "cell_type": "code",
      "metadata": {
        "colab": {
          "base_uri": "https://localhost:8080/"
        },
        "id": "PRS16wrx4ECo",
        "outputId": "292aaeb6-0e73-46bb-fcdd-751b915d20a6"
      },
      "source": [
        "model.compile(optimizer='adamax',\n",
        "              loss='sparse_categorical_crossentropy',\n",
        "              metrics=['accuracy'])\n",
        "\n",
        "history = model.fit(train_images, train_labels, validation_data=(test_images, test_labels) ,epochs=6)"
      ],
      "execution_count": 77,
      "outputs": [
        {
          "output_type": "stream",
          "name": "stdout",
          "text": [
            "Epoch 1/6\n",
            "1875/1875 [==============================] - 58s 31ms/step - loss: 0.6902 - accuracy: 0.7500 - val_loss: 0.5613 - val_accuracy: 0.7970\n",
            "Epoch 2/6\n",
            "1875/1875 [==============================] - 57s 30ms/step - loss: 0.4868 - accuracy: 0.8234 - val_loss: 0.4682 - val_accuracy: 0.8310\n",
            "Epoch 3/6\n",
            "1875/1875 [==============================] - 57s 30ms/step - loss: 0.4232 - accuracy: 0.8472 - val_loss: 0.4316 - val_accuracy: 0.8458\n",
            "Epoch 4/6\n",
            "1875/1875 [==============================] - 57s 30ms/step - loss: 0.3880 - accuracy: 0.8582 - val_loss: 0.4336 - val_accuracy: 0.8389\n",
            "Epoch 5/6\n",
            "1875/1875 [==============================] - 57s 31ms/step - loss: 0.3599 - accuracy: 0.8675 - val_loss: 0.3920 - val_accuracy: 0.8571\n",
            "Epoch 6/6\n",
            "1875/1875 [==============================] - 57s 30ms/step - loss: 0.3359 - accuracy: 0.8766 - val_loss: 0.3789 - val_accuracy: 0.8655\n"
          ]
        }
      ]
    },
    {
      "cell_type": "code",
      "metadata": {
        "colab": {
          "base_uri": "https://localhost:8080/"
        },
        "id": "bPX035PZ4EEt",
        "outputId": "feaa5382-3142-4b67-ed82-8414898d1fec"
      },
      "source": [
        "test_loss, test_acc = model.evaluate(test_images,  test_labels, verbose=2)\n",
        "print('Test Accuracy : {:.2f}'.format(test_acc))"
      ],
      "execution_count": 78,
      "outputs": [
        {
          "output_type": "stream",
          "name": "stdout",
          "text": [
            "313/313 - 2s - loss: 0.3789 - accuracy: 0.8655\n",
            "Test Accuracy : 0.87\n"
          ]
        }
      ]
    },
    {
      "cell_type": "code",
      "metadata": {
        "colab": {
          "base_uri": "https://localhost:8080/",
          "height": 499
        },
        "id": "5uCoLyeG4fNh",
        "outputId": "3938f7ba-1758-4734-e815-ebfe66ec000c"
      },
      "source": [
        "acc = history.history['accuracy']\n",
        "val_acc = history.history['val_accuracy']\n",
        "\n",
        "loss=history.history['loss']\n",
        "val_loss=history.history['val_loss']\n",
        "\n",
        "epochs_range = range(6)\n",
        "\n",
        "plt.figure(figsize=(8, 8))\n",
        "plt.subplot(1, 2, 1)\n",
        "plt.plot(epochs_range, acc, label='Training Accuracy')\n",
        "plt.plot(epochs_range, val_acc, label='Validation Accuracy')\n",
        "plt.legend(loc='lower right')\n",
        "plt.title('Training and Validation Accuracy')\n",
        "\n",
        "plt.subplot(1, 2, 2)\n",
        "plt.plot(epochs_range, loss, label='Training Loss')\n",
        "plt.plot(epochs_range, val_loss, label='Validation Loss')\n",
        "plt.legend(loc='upper right')\n",
        "plt.title('Training and Validation Loss')\n",
        "plt.show()"
      ],
      "execution_count": 79,
      "outputs": [
        {
          "output_type": "display_data",
          "data": {
            "image/png": "[encoded data removed]",
            "text/plain": [
              "<Figure size 576x576 with 2 Axes>"
            ]
          },
          "metadata": {
            "needs_background": "light"
          }
        }
      ]
    },
    {
      "cell_type": "code",
      "metadata": {
        "colab": {
          "base_uri": "https://localhost:8080/"
        },
        "id": "eqhR5LPh4fPw",
        "outputId": "79132d96-bb70-4df1-eb23-2624f33ee72d"
      },
      "source": [
        "# retrieve weights from the second hidden layer\n",
        "model.summary()\n",
        "\n",
        "print('We will look into CNN filters of the 3rd layer : {}'.format(model.layers[4].name))\n",
        "filters, biases = model.layers[4].get_weights()"
      ],
      "execution_count": 80,
      "outputs": [
        {
          "output_type": "stream",
          "name": "stdout",
          "text": [
            "Model: \"sequential_16\"\n",
            "_________________________________________________________________\n",
            "Layer (type)                 Output Shape              Param #   \n",
            "=================================================================\n",
            "conv2d_38 (Conv2D)           (None, 26, 26, 32)        320       \n",
            "_________________________________________________________________\n",
            "max_pooling2d_36 (MaxPooling (None, 13, 13, 32)        0         \n",
            "_________________________________________________________________\n",
            "conv2d_39 (Conv2D)           (None, 11, 11, 64)        18496     \n",
            "_________________________________________________________________\n",
            "max_pooling2d_37 (MaxPooling (None, 5, 5, 64)          0         \n",
            "_________________________________________________________________\n",
            "conv2d_40 (Conv2D)           (None, 3, 3, 128)         73856     \n",
            "_________________________________________________________________\n",
            "max_pooling2d_38 (MaxPooling (None, 1, 1, 128)         0         \n",
            "_________________________________________________________________\n",
            "flatten_4 (Flatten)          (None, 128)               0         \n",
            "_________________________________________________________________\n",
            "dense_8 (Dense)              (None, 128)               16512     \n",
            "_________________________________________________________________\n",
            "dense_9 (Dense)              (None, 10)                1290      \n",
            "=================================================================\n",
            "Total params: 110,474\n",
            "Trainable params: 110,474\n",
            "Non-trainable params: 0\n",
            "_________________________________________________________________\n",
            "We will look into CNN filters of the 3rd layer : conv2d_40\n"
          ]
        }
      ]
    },
    {
      "cell_type": "code",
      "metadata": {
        "colab": {
          "base_uri": "https://localhost:8080/",
          "height": 252
        },
        "id": "f29qLpbx4fRs",
        "outputId": "d1abd0a7-459c-4166-f24a-d2b338e19607"
      },
      "source": [
        "f_min, f_max = filters.min(), filters.max()\n",
        "filters = (filters - f_min) / (f_max - f_min)\n",
        "# plot first few filters\n",
        "n_filters, ix = 6, 1\n",
        "for i in range(n_filters):\n",
        "    # get the filter\n",
        "    f = filters[:, :, :, i]\n",
        "    # plot each channel separately\n",
        "    for j in range(3):\n",
        "        # specify subplot and turn of axis\n",
        "        ax = plt.subplot(n_filters, 3, ix)\n",
        "        ax.set_xticks([])\n",
        "        ax.set_yticks([])\n",
        "        # plot filter channel in grayscale\n",
        "        plt.imshow(f[:, :, j], cmap='gray')\n",
        "        ix += 1\n",
        "# show the figure\n",
        "plt.show()"
      ],
      "execution_count": 93,
      "outputs": [
        {
          "output_type": "display_data",
          "data": {
            "image/png": "[encoded data removed]",
            "text/plain": [
              "<Figure size 432x288 with 18 Axes>"
            ]
          },
          "metadata": {}
        }
      ]
    },
    {
      "cell_type": "code",
      "metadata": {
        "colab": {
          "base_uri": "https://localhost:8080/"
        },
        "id": "zbiyRLQY4fTR",
        "outputId": "71b5eff4-336e-4b33-bd6c-497129b31d9b"
      },
      "source": [
        "extracted_model = tf.keras.models.Model(\n",
        "    inputs=model.inputs,\n",
        "    outputs=model.get_layer(name=model.layers[4].name).output,\n",
        ")\n",
        "\n",
        "extracted_model.summary()"
      ],
      "execution_count": 94,
      "outputs": [
        {
          "output_type": "stream",
          "name": "stdout",
          "text": [
            "Model: \"model_4\"\n",
            "_________________________________________________________________\n",
            "Layer (type)                 Output Shape              Param #   \n",
            "=================================================================\n",
            "conv2d_38_input (InputLayer) [(None, 28, 28, 1)]       0         \n",
            "_________________________________________________________________\n",
            "conv2d_38 (Conv2D)           (None, 26, 26, 32)        320       \n",
            "_________________________________________________________________\n",
            "max_pooling2d_36 (MaxPooling (None, 13, 13, 32)        0         \n",
            "_________________________________________________________________\n",
            "conv2d_39 (Conv2D)           (None, 11, 11, 64)        18496     \n",
            "_________________________________________________________________\n",
            "max_pooling2d_37 (MaxPooling (None, 5, 5, 64)          0         \n",
            "_________________________________________________________________\n",
            "conv2d_40 (Conv2D)           (None, 3, 3, 128)         73856     \n",
            "=================================================================\n",
            "Total params: 92,672\n",
            "Trainable params: 92,672\n",
            "Non-trainable params: 0\n",
            "_________________________________________________________________\n"
          ]
        }
      ]
    },
    {
      "cell_type": "code",
      "metadata": {
        "colab": {
          "base_uri": "https://localhost:8080/",
          "height": 536
        },
        "id": "TKK5XQc43bcK",
        "outputId": "7fa4d441-9f76-4915-8187-0a32db0bb255"
      },
      "source": [
        "print('Test image')\n",
        "plt.imshow(test_images[200][:,:,0])\n",
        "plt.show()\n",
        "\n",
        "print('Feature maps of 3rd layer')\n",
        "feature_maps =  extracted_model.predict(test_images)\n",
        "# plot all 64 maps in an 10x10 squares\n",
        "square = 8\n",
        "ix = 1\n",
        "for _ in range(square):\n",
        "    for _ in range(square):\n",
        "        # specify subplot and turn of axis\n",
        "        ax = plt.subplot(square, square, ix)\n",
        "        ax.set_xticks([])\n",
        "        ax.set_yticks([])\n",
        "        # plot filter channel in grayscale\n",
        "        plt.imshow(feature_maps[0, :, :, ix-1], cmap='gray')\n",
        "        ix += 1\n",
        "# show the figure\n",
        "plt.show()"
      ],
      "execution_count": 95,
      "outputs": [
        {
          "output_type": "stream",
          "name": "stdout",
          "text": [
            "Test image\n"
          ]
        },
        {
          "output_type": "display_data",
          "data": {
            "image/png": "[encoded data removed]",
            "text/plain": [
              "<Figure size 432x288 with 1 Axes>"
            ]
          },
          "metadata": {
            "needs_background": "light"
          }
        },
        {
          "output_type": "stream",
          "name": "stdout",
          "text": [
            "Feature maps of 3rd layer\n"
          ]
        },
        {
          "output_type": "display_data",
          "data": {
            "image/png": "[encoded data removed]",
            "text/plain": [
              "<Figure size 432x288 with 64 Axes>"
            ]
          },
          "metadata": {}
        }
      ]
    },
    {
      "cell_type": "code",
      "metadata": {
        "id": "FAMjXmWG4sCK"
      },
      "source": [
        ""
      ],
      "execution_count": null,
      "outputs": []
    },
    {
      "cell_type": "code",
      "metadata": {
        "id": "vy_ZlLbz4sEe"
      },
      "source": [
        "\n"
      ],
      "execution_count": null,
      "outputs": []
    }
  ]
}